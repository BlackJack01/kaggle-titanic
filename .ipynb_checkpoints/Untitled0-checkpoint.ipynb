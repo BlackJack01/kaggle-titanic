{
 "metadata": {
  "name": "",
  "signature": "sha256:a5e170a87901d6cff6b992970a243dfd9b24980d3c161839769d73c774516438"
 },
 "nbformat": 3,
 "nbformat_minor": 0,
 "worksheets": [
  {
   "cells": [
    {
     "cell_type": "code",
     "collapsed": false,
     "input": [
      "import pandas as pd\n",
      "import statsmodels as sm\n",
      "import numpy as np\n",
      "\n",
      "import sklearn\n",
      "from sklearn import cross_validation\n",
      "from sklearn import tree\n",
      "from sklearn import svm\n",
      "from sklearn import ensemble\n",
      "from sklearn import neighbors\n",
      "from sklearn import linear_model\n",
      "from sklearn import metrics\n",
      "from sklearn import preprocessing"
     ],
     "language": "python",
     "metadata": {},
     "outputs": [],
     "prompt_number": 56
    },
    {
     "cell_type": "code",
     "collapsed": false,
     "input": [
      "df = pd.read_csv(\"data/train.csv\")\n",
      "# drop the useless columns that we know are not going to be good for prediction\n",
      "df.drop([\"Name\",\"Ticket\",\"Cabin\"], axis=1, inplace=True)"
     ],
     "language": "python",
     "metadata": {},
     "outputs": [],
     "prompt_number": 57
    },
    {
     "cell_type": "code",
     "collapsed": false,
     "input": [
      "df = df[np.isfinite(df['Age'])]\n",
      "df = df[np.isfinite(df['Fare'])]"
     ],
     "language": "python",
     "metadata": {},
     "outputs": [],
     "prompt_number": 58
    },
    {
     "cell_type": "code",
     "collapsed": false,
     "input": [
      "label_encoder = preprocessing.LabelEncoder()\n",
      "df['Sex'] = label_encoder.fit_transform(df['Sex'])\n",
      "df['Embarked'] = label_encoder.fit_transform(df['Embarked'])\n",
      "print df.head()"
     ],
     "language": "python",
     "metadata": {},
     "outputs": [
      {
       "output_type": "stream",
       "stream": "stdout",
       "text": [
        "   PassengerId  Survived  Pclass  Sex  Age  SibSp  Parch     Fare  Embarked\n",
        "0            1         0       3    1   22      1      0   7.2500         3\n",
        "1            2         1       1    0   38      1      0  71.2833         1\n",
        "2            3         1       3    0   26      0      0   7.9250         3\n",
        "3            4         1       1    0   35      1      0  53.1000         3\n",
        "4            5         0       3    1   35      0      0   8.0500         3\n"
       ]
      }
     ],
     "prompt_number": 59
    },
    {
     "cell_type": "code",
     "collapsed": false,
     "input": [
      "y = df['Survived'].as_matrix().astype(np.int);"
     ],
     "language": "python",
     "metadata": {},
     "outputs": [],
     "prompt_number": 60
    },
    {
     "cell_type": "code",
     "collapsed": false,
     "input": [
      "df.drop(['Survived'], axis=1, inplace=True)"
     ],
     "language": "python",
     "metadata": {},
     "outputs": [],
     "prompt_number": 61
    },
    {
     "cell_type": "code",
     "collapsed": false,
     "input": [
      "print('There are {} instances for survived class and {} instances for died classes.'.format(y.sum(), y.shape[0] - y.sum()))"
     ],
     "language": "python",
     "metadata": {},
     "outputs": [
      {
       "output_type": "stream",
       "stream": "stdout",
       "text": [
        "There are 290 instances for survived class and 424 instances for died classes.\n"
       ]
      }
     ],
     "prompt_number": 62
    },
    {
     "cell_type": "code",
     "collapsed": false,
     "input": [
      "X = df.as_matrix().astype(np.float)"
     ],
     "language": "python",
     "metadata": {},
     "outputs": [],
     "prompt_number": 63
    },
    {
     "cell_type": "code",
     "collapsed": false,
     "input": [
      "# scale your features\n",
      "scaler = preprocessing.StandardScaler()\n",
      "X = scaler.fit_transform(X)"
     ],
     "language": "python",
     "metadata": {},
     "outputs": [],
     "prompt_number": 64
    },
    {
     "cell_type": "code",
     "collapsed": false,
     "input": [
      "X"
     ],
     "language": "python",
     "metadata": {},
     "outputs": [
      {
       "metadata": {},
       "output_type": "pyout",
       "prompt_number": 65,
       "text": [
        "array([[-1.72853202,  0.91123237,  0.75905134, ..., -0.50589515,\n",
        "        -0.51897787,  0.52161122],\n",
        "       [-1.7246701 , -1.47636364, -1.31743394, ..., -0.50589515,\n",
        "         0.69189675, -2.01192899],\n",
        "       [-1.72080817,  0.91123237, -1.31743394, ..., -0.50589515,\n",
        "        -0.50621356,  0.52161122],\n",
        "       ..., \n",
        "       [ 1.69699835, -1.47636364, -1.31743394, ..., -0.50589515,\n",
        "        -0.08877362,  0.52161122],\n",
        "       [ 1.70472221, -1.47636364,  0.75905134, ..., -0.50589515,\n",
        "        -0.08877362, -2.01192899],\n",
        "       [ 1.70858414,  0.91123237,  0.75905134, ..., -0.50589515,\n",
        "        -0.50952283, -0.74515889]])"
       ]
      }
     ],
     "prompt_number": 65
    },
    {
     "cell_type": "code",
     "collapsed": false,
     "input": [
      "def build_cross_validation(X, y, clf_class, shuffle=True, n_folds=3, **kwargs):\n",
      "    \"\"\" run cross validation \"\"\"\n",
      "    kfold = cross_validation.StratifiedKFold(y, n_folds=n_folds, shuffle=shuffle)\n",
      "    y_pred = y.copy()\n",
      "    for train, test in kfold:\n",
      "        X_train, X_test = X[train], X[test]\n",
      "        y_train = y[train]\n",
      "        clf = clf_class(**kwargs)\n",
      "        clf.fit(X_train,y_train)\n",
      "        y_pred[test] = clf.predict(X_test)\n",
      "    return y_pred"
     ],
     "language": "python",
     "metadata": {},
     "outputs": [],
     "prompt_number": 66
    },
    {
     "cell_type": "code",
     "collapsed": false,
     "input": [
      "print('Passive Aggressive Classifier: {:.2f}'.format(metrics.accuracy_score(y, build_cross_validation(X, y, linear_model.PassiveAggressiveClassifier))))\n",
      "print('Gradient Boosting Classifier:  {:.2f}'.format(metrics.accuracy_score(y, build_cross_validation(X, y, ensemble.GradientBoostingClassifier))))\n",
      "print('Support vector machine(SVM):   {:.2f}'.format(metrics.accuracy_score(y, build_cross_validation(X, y, svm.SVC))))\n",
      "print('Random Forest Classifier:      {:.2f}'.format(metrics.accuracy_score(y, build_cross_validation(X, y, ensemble.RandomForestClassifier))))\n",
      "print('K Nearest Neighbor Classifier: {:.2f}'.format(metrics.accuracy_score(y, build_cross_validation(X, y, neighbors.KNeighborsClassifier))))\n",
      "print('Logistic Regression:           {:.2f}'.format(metrics.accuracy_score(y, build_cross_validation(X, y, linear_model.LogisticRegression))))"
     ],
     "language": "python",
     "metadata": {},
     "outputs": [
      {
       "output_type": "stream",
       "stream": "stdout",
       "text": [
        "Passive Aggressive Classifier: 0.74\n",
        "Gradient Boosting Classifier:  0.81"
       ]
      },
      {
       "output_type": "stream",
       "stream": "stdout",
       "text": [
        "\n",
        "Support vector machine(SVM):   0.81\n",
        "Random Forest Classifier:      0.78"
       ]
      },
      {
       "output_type": "stream",
       "stream": "stdout",
       "text": [
        "\n",
        "K Nearest Neighbor Classifier: 0.81\n",
        "Logistic Regression:           0.80\n"
       ]
      }
     ],
     "prompt_number": 68
    },
    {
     "cell_type": "code",
     "collapsed": false,
     "input": [
      "print('Dump Classifier: {:.2f}'.format(metrics.accuracy_score(y, [0 for ii in y.tolist()])))"
     ],
     "language": "python",
     "metadata": {},
     "outputs": [
      {
       "output_type": "stream",
       "stream": "stdout",
       "text": [
        "Dump Classifier: 0.59\n"
       ]
      }
     ],
     "prompt_number": 69
    },
    {
     "cell_type": "code",
     "collapsed": false,
     "input": [],
     "language": "python",
     "metadata": {},
     "outputs": []
    }
   ],
   "metadata": {}
  }
 ]
}